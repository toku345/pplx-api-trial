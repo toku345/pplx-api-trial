{
 "cells": [
  {
   "cell_type": "code",
   "execution_count": 1,
   "metadata": {},
   "outputs": [],
   "source": [
    "import os\n",
    "\n",
    "from openai import OpenAI, ChatCompletion"
   ]
  },
  {
   "cell_type": "code",
   "execution_count": 2,
   "metadata": {},
   "outputs": [],
   "source": [
    "def create_completion(api_key, base_url, model) -> ChatCompletion:\n",
    "    messages = [\n",
    "        {\n",
    "            \"role\": \"system\",\n",
    "            \"content\": (\n",
    "                \"You are an artificial intelligence assistant and you need to \"\n",
    "                \"engage in a helpful, detailed, polite conversation with a user.\"\n",
    "                \"Please answer in Japanese.\"\n",
    "            ),\n",
    "        },\n",
    "        {\n",
    "            \"role\": \"user\",\n",
    "            \"content\": (\n",
    "                \"I heard that The Elements of Computing Systems, Second Edition was published, \"\n",
    "                \"but I haven't read the first edition yet. Should I buy and read the second edition?\"\n",
    "            ),\n",
    "        },\n",
    "    ]\n",
    "\n",
    "    client = OpenAI(api_key=api_key, base_url=base_url)\n",
    "\n",
    "    response = client.chat.completions.create(\n",
    "        model=model,\n",
    "        messages=messages,\n",
    "    )\n",
    "\n",
    "    return response"
   ]
  },
  {
   "cell_type": "markdown",
   "metadata": {},
   "source": [
    "# Perplexity API"
   ]
  },
  {
   "cell_type": "code",
   "execution_count": 3,
   "metadata": {},
   "outputs": [],
   "source": [
    "API_KEY = os.environ.get(\"PPLX_API_KEY\")\n",
    "MODEL = \"llama-3.1-sonar-huge-128k-online\"\n",
    "BASE_URL = \"https://api.perplexity.ai\"\n",
    "\n",
    "response = create_completion(API_KEY, BASE_URL, MODEL)\n"
   ]
  },
  {
   "cell_type": "code",
   "execution_count": 4,
   "metadata": {},
   "outputs": [
    {
     "name": "stdout",
     "output_type": "stream",
     "text": [
      "「The Elements of Computing Systems, Second Edition」を購入するかどうかについての質問ですね。\n",
      "\n",
      "この本の第二版は、第一版を大幅に改訂し、ハードウェアとソフトウェアの2つのパートに分けられています。各パートには6つのプロジェクトが含まれており、コンピュータの基本原理から、Tetrisのようなゲームを動かすまでのプロセスを学ぶことができます[1][3]。\n",
      "\n",
      "第二版の主な変更点は、以下の通りです：\n",
      "\n",
      "- **構造の改善**：ハードウェアとソフトウェアの2つの独立したパートに分けられ、各パートは6つの章と6つのプロジェクトで構成されています[1][3]。\n",
      "- **新しい付録の追加**：技術的なトピックや理論的な議論が追加されています[3][5]。\n",
      "- **エラーの修正と説明の改善**：第一版のエラーが修正され、説明がより明確になっています[5]。\n",
      "\n",
      "これらの変更点を考慮すると、第二版を購入することをお勧めします。特に、コンピュータの基本原理を体系的に学びたい場合や、最新の情報を得たい場合には、第二版が適しています。\n",
      "\n",
      "ただし、すでに第一版を所有している場合や、第一版を使用する機会がある場合は、第二版を購入する必要はありません。第一版でも基本的な知識を学ぶことができます[5]。\n",
      "\n",
      "最終的には、自分のニーズと目標に応じて、どの版を購入するかを決めることが重要です。\n"
     ]
    }
   ],
   "source": [
    "# 回答\n",
    "print(response.choices[0].message.content)"
   ]
  },
  {
   "cell_type": "code",
   "execution_count": 5,
   "metadata": {},
   "outputs": [
    {
     "name": "stdout",
     "output_type": "stream",
     "text": [
      "[1]: https://bulkbookstore.com/the-elements-of-computing-systems-second-edition-building-a-modern-computer-from-first-principles-9780262539807\n",
      "[2]: https://www.goodreads.com/book/show/51706318-the-elements-of-computing-systems\n",
      "[3]: https://hackernewsbooks.com/book/the-elements-of-computing-systems-building-a-modern-computer-from-first-principles/24e53c653bf36dcdf40f5704a4973d37\n",
      "[4]: https://dokumen.pub/the-elements-of-computing-systems-second-edition-building-a-modern-computer-from-first-principles-2nbsped-0262539802-9780262539807.html\n",
      "[5]: http://nand2tetris-questions-and-answers-forum.52.s1.nabble.com/The-Elements-of-Computing-Systems-2nd-Ed-td4036087.html\n"
     ]
    }
   ],
   "source": [
    "# 引用元\n",
    "for i, citation in enumerate(response.citations):\n",
    "    print(f\"[{i+1}]: {citation}\")"
   ]
  },
  {
   "cell_type": "markdown",
   "metadata": {},
   "source": [
    "# OpenAI API"
   ]
  },
  {
   "cell_type": "code",
   "execution_count": 6,
   "metadata": {},
   "outputs": [],
   "source": [
    "API_KEY = os.environ.get(\"OPENAI_API_KEY\")\n",
    "MODEL = \"gpt-4o\"\n",
    "BASE_URL = \"https://api.openai.com/v1\"  # デフォルト値\n",
    "\n",
    "response = create_completion(API_KEY, BASE_URL, MODEL)"
   ]
  },
  {
   "cell_type": "code",
   "execution_count": 7,
   "metadata": {},
   "outputs": [
    {
     "name": "stdout",
     "output_type": "stream",
     "text": [
      "「The Elements of Computing Systems, Second Edition」が出版されたということですね。この本はコンピュータシステムの基本概念を学ぶのに非常に有用な教材です。第一版がまだ読んでいない場合、第二版を購入して読み始めるのも良い選択だと思います。\n",
      "\n",
      "第二版は、最新の技術や市場の変化を反映して内容が更新されている可能性がありますので、より現代的な視点から学ぶことができるでしょう。もし、第一版と第二版の違いが気になるのであれば、オンラインでレビューを調べたり、目次を比較したりしても良いかもしれません。新しい内容や改訂された部分が興味を引くものであれば、第二版を選ぶ価値は十分にあります。\n",
      "\n",
      "どちらの版を選んでも、コンピュータの構造と運用原理を深く理解するのに役立つ良書だと思います。あなたがどのような知識を求めているかによって、選択が変わるかもしれませんが、お勧めできる本です。\n"
     ]
    }
   ],
   "source": [
    "# 回答\n",
    "print(response.choices[0].message.content)"
   ]
  },
  {
   "cell_type": "code",
   "execution_count": 8,
   "metadata": {},
   "outputs": [
    {
     "ename": "AttributeError",
     "evalue": "'ChatCompletion' object has no attribute 'citations'",
     "output_type": "error",
     "traceback": [
      "\u001b[0;31m---------------------------------------------------------------------------\u001b[0m",
      "\u001b[0;31mAttributeError\u001b[0m                            Traceback (most recent call last)",
      "Cell \u001b[0;32mIn[8], line 2\u001b[0m\n\u001b[1;32m      1\u001b[0m \u001b[38;5;66;03m# 引用元\u001b[39;00m\n\u001b[0;32m----> 2\u001b[0m \u001b[38;5;28;01mfor\u001b[39;00m citation \u001b[38;5;129;01min\u001b[39;00m \u001b[43mresponse\u001b[49m\u001b[38;5;241;43m.\u001b[39;49m\u001b[43mcitations\u001b[49m:\n\u001b[1;32m      3\u001b[0m     \u001b[38;5;28mprint\u001b[39m(citation)\n",
      "File \u001b[0;32m~/works/langchain/pplx-trial/.venv/lib/python3.13/site-packages/pydantic/main.py:892\u001b[0m, in \u001b[0;36mBaseModel.__getattr__\u001b[0;34m(self, item)\u001b[0m\n\u001b[1;32m    889\u001b[0m     \u001b[38;5;28;01mreturn\u001b[39;00m \u001b[38;5;28msuper\u001b[39m()\u001b[38;5;241m.\u001b[39m\u001b[38;5;21m__getattribute__\u001b[39m(item)  \u001b[38;5;66;03m# Raises AttributeError if appropriate\u001b[39;00m\n\u001b[1;32m    890\u001b[0m \u001b[38;5;28;01melse\u001b[39;00m:\n\u001b[1;32m    891\u001b[0m     \u001b[38;5;66;03m# this is the current error\u001b[39;00m\n\u001b[0;32m--> 892\u001b[0m     \u001b[38;5;28;01mraise\u001b[39;00m \u001b[38;5;167;01mAttributeError\u001b[39;00m(\u001b[38;5;124mf\u001b[39m\u001b[38;5;124m'\u001b[39m\u001b[38;5;132;01m{\u001b[39;00m\u001b[38;5;28mtype\u001b[39m(\u001b[38;5;28mself\u001b[39m)\u001b[38;5;241m.\u001b[39m\u001b[38;5;18m__name__\u001b[39m\u001b[38;5;132;01m!r}\u001b[39;00m\u001b[38;5;124m object has no attribute \u001b[39m\u001b[38;5;132;01m{\u001b[39;00mitem\u001b[38;5;132;01m!r}\u001b[39;00m\u001b[38;5;124m'\u001b[39m)\n",
      "\u001b[0;31mAttributeError\u001b[0m: 'ChatCompletion' object has no attribute 'citations'"
     ]
    }
   ],
   "source": [
    "# 引用元\n",
    "for citation in response.citations:\n",
    "    print(citation)"
   ]
  }
 ],
 "metadata": {
  "kernelspec": {
   "display_name": ".venv",
   "language": "python",
   "name": "python3"
  },
  "language_info": {
   "codemirror_mode": {
    "name": "ipython",
    "version": 3
   },
   "file_extension": ".py",
   "mimetype": "text/x-python",
   "name": "python",
   "nbconvert_exporter": "python",
   "pygments_lexer": "ipython3",
   "version": "3.13.1"
  }
 },
 "nbformat": 4,
 "nbformat_minor": 2
}
