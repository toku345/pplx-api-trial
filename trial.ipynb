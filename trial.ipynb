{
 "cells": [
  {
   "cell_type": "code",
   "execution_count": 1,
   "metadata": {},
   "outputs": [],
   "source": [
    "## 以下のようなコマンドで openai をインストールする\n",
    "# !uv pip install openai\n",
    "\n",
    "import os\n",
    "\n",
    "from openai import OpenAI\n",
    "\n",
    "API_KEY = os.environ.get(\"PPLX_API_KEY\")\n",
    "BASE_URL = \"https://api.perplexity.ai\"\n",
    "\n",
    "messages = [\n",
    "    {\n",
    "        \"role\": \"system\",\n",
    "        \"content\": (\n",
    "            \"You are an artificial intelligence assistant and you need to \"\n",
    "            \"engage in a helpful, detailed, polite conversation with a user.\"\n",
    "        ),\n",
    "    },\n",
    "    {\n",
    "        \"role\": \"user\",\n",
    "        \"content\": (\n",
    "            \"コンピュータシステムの理論と実装 第2版 が出たそうなのですが、そもそもまだ 第1版 を積んだまま読んでいません。第2版を買って読んだ方が良いでしょうか？\"\n",
    "        ),\n",
    "    },\n",
    "]\n",
    "\n",
    "client = OpenAI(api_key=API_KEY, base_url=BASE_URL)\n",
    "\n",
    "response = client.chat.completions.create(\n",
    "    model=\"llama-3.1-sonar-huge-128k-online\",\n",
    "    messages=messages,\n",
    ")"
   ]
  },
  {
   "cell_type": "code",
   "execution_count": 2,
   "metadata": {},
   "outputs": [
    {
     "name": "stdout",
     "output_type": "stream",
     "text": [
      "コンピュータシステムの理論と実装の第2版が出版されましたが、まだ第1版を読んでいない場合は、第2版を購入して読むことをお勧めします。以下の理由があります。\n",
      "\n",
      "1. **改訂内容**: 第2版では、初版の内容が全面的に書き換えられ、付録も補強されています。特に、シェルやプロセスが実行されるまでの解説が追加され、ボリュームが増えています[1][5]。\n",
      "\n",
      "2. **最新情報**: 第2版は2024年12月に出版されたため、最新の情報が反映されています。コンピュータサイエンスは進化が速いため、最新の情報を学ぶことが重要です[1][4]。\n",
      "\n",
      "3. **学習の効率**: 第2版は、前半のハードウェア編と後半のソフトウェア編のコントラストが明確になり、理解が深まりやすくなっています。各章のプロジェクトを通して、コンピュータのビルディングブロックをインクリメンタルに学ぶことができます[1][3]。\n",
      "\n",
      "4. **サポート**: 第2版には、ウェブインターフェースのIDEが存在し、プロジェクトの遂行に必要な操作がブラウザで完結するようになり、実験の敷居が下がっています[1]。\n",
      "\n",
      "したがって、第2版を購入して読むことをお勧めします。最新の情報を学び、効率的に理解を深めることができます。\n"
     ]
    }
   ],
   "source": [
    "# 回答\n",
    "print(response.choices[0].message.content)"
   ]
  },
  {
   "cell_type": "code",
   "execution_count": 3,
   "metadata": {},
   "outputs": [
    {
     "name": "stdout",
     "output_type": "stream",
     "text": [
      "[1]: https://dev.classmethod.jp/articles/nand2tetris-2nd-review/\n",
      "[2]: https://yutashx.hatenablog.com/entry/2024/03/22/225612\n",
      "[3]: https://blog.magnolia.tech/entry/2024/12/07/215236\n",
      "[4]: https://www.kinokuniya.co.jp/f/dsg-01-9784814400874\n",
      "[5]: https://www.lambdanote.com\n"
     ]
    }
   ],
   "source": [
    "# 引用元\n",
    "for i, citation in enumerate(response.citations):\n",
    "    print(f\"[{i+1}]: {citation}\")"
   ]
  }
 ],
 "metadata": {
  "kernelspec": {
   "display_name": ".venv",
   "language": "python",
   "name": "python3"
  },
  "language_info": {
   "codemirror_mode": {
    "name": "ipython",
    "version": 3
   },
   "file_extension": ".py",
   "mimetype": "text/x-python",
   "name": "python",
   "nbconvert_exporter": "python",
   "pygments_lexer": "ipython3",
   "version": "3.13.1"
  }
 },
 "nbformat": 4,
 "nbformat_minor": 2
}
