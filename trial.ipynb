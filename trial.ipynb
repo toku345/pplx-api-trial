{
 "cells": [
  {
   "cell_type": "code",
   "execution_count": 7,
   "metadata": {},
   "outputs": [],
   "source": [
    "import os\n",
    "import pprint\n",
    "\n",
    "from openai import OpenAI, ChatCompletion"
   ]
  },
  {
   "cell_type": "code",
   "execution_count": 15,
   "metadata": {},
   "outputs": [],
   "source": [
    "def create_completion(api_key, base_url, model) -> ChatCompletion:\n",
    "    messages = [\n",
    "        {\n",
    "            \"role\": \"system\",\n",
    "            \"content\": (\n",
    "                \"You are an artificial intelligence assistant and you need to \"\n",
    "                \"engage in a helpful, detailed, polite conversation with a user.\"\n",
    "            ),\n",
    "        },\n",
    "        {\n",
    "            \"role\": \"user\",\n",
    "            \"content\": (\n",
    "                \"コンピュータシステムの理論と実装 第2版 が出たそうなのですが、そもそもまだ 第1版 を積んだまま読んでいません。第2版を買って読んだ方が良いでしょうか？\"\n",
    "            ),\n",
    "        },\n",
    "    ]\n",
    "\n",
    "    client = OpenAI(api_key=api_key, base_url=base_url)\n",
    "\n",
    "    response = client.chat.completions.create(\n",
    "        model=model,\n",
    "        messages=messages,\n",
    "    )\n",
    "\n",
    "    return response"
   ]
  },
  {
   "cell_type": "markdown",
   "metadata": {},
   "source": [
    "# Perplexity API"
   ]
  },
  {
   "cell_type": "code",
   "execution_count": 16,
   "metadata": {},
   "outputs": [],
   "source": [
    "API_KEY = os.environ.get(\"PPLX_API_KEY\")\n",
    "MODEL = \"llama-3.1-sonar-large-128k-online\"\n",
    "BASE_URL = \"https://api.perplexity.ai\"\n",
    "\n",
    "response = create_completion(API_KEY, BASE_URL, MODEL)\n"
   ]
  },
  {
   "cell_type": "code",
   "execution_count": 17,
   "metadata": {},
   "outputs": [
    {
     "name": "stdout",
     "output_type": "stream",
     "text": [
      "『コンピュータシステムの理論と実装』の第2版を購入するかどうかの判断には、幾つかの点を考慮することが賢明です。\n",
      "\n",
      "## 更新内容と改善点\n",
      "- 第2版では、前半（ハードウェア編）と後半（ソフトウェア編）のコントラストが明確になり、付録も補強されました。多くのフィードバックを元に、文章も全面的に書き換えられました[1][3][4].\n",
      "- 新しい版では、ウェブインターフェースのIDEが導入されており、プロジェクトの遂行がブラウザで完結するようになり、実験の敷居が下がっています[1].\n",
      "\n",
      "## 学習効率と理解深度\n",
      "- 第2版は、各章のプロジェクトの実装を通して理解を深める体験学習を重視しており、章毎の独立性が高く、興味のある章から読み始めることが可能です[1][2][3].\n",
      "- 特に、仮想マシンの解説や他のソフトウェア関連の章において、より詳細な解説と実践的なアプローチが提供されています[3].\n",
      "\n",
      "## 初心者向けか\n",
      "- この本は、初心者向けではなく、多少なりとも低レイヤの用語に触れたことがないと難しいとされています。ただし、図や表が豊富に含まれており、理解を助ける内容となっています[2][3].\n",
      "\n",
      "## 既存の知識と補完\n",
      "- もし第1版を読んでいても、第2版の更新内容や改善点を考慮すると、再度学習する価値があります。特に、最新のウェブインターフェースのIDEや補強された付録が役立つかもしれません[1][3].\n",
      "\n",
      "### 結論\n",
      "- 第1版を積んだままでも、第2版の購入は以下の理由で推奨されます：\n",
      "  - 更新された内容と改善された解説が理解を深めるのに役立つ。\n",
      "  - 新しいウェブインターフェースのIDEが実践的学習を支援する。\n",
      "  - 付録や文章の全面的な書き換えが学習効率を向上させる。\n",
      "\n",
      "ただし、第1版を既に読み始めている場合、まずはその内容を完了し、次に第2版の特徴的な更新点を補完するというアプローチも有効です。\n"
     ]
    }
   ],
   "source": [
    "# 回答\n",
    "print(response.choices[0].message.content)"
   ]
  },
  {
   "cell_type": "code",
   "execution_count": 18,
   "metadata": {},
   "outputs": [
    {
     "name": "stdout",
     "output_type": "stream",
     "text": [
      "https://dev.classmethod.jp/articles/nand2tetris-2nd-review/\n",
      "https://numb86-tech.hatenablog.com/entry/2021/04/13/001823\n",
      "https://blog.magnolia.tech/entry/2024/12/07/215236\n",
      "https://www.oreilly.co.jp/index.shtml\n",
      "https://qiita.com/Itoi/items/fb4b72485ff1a7734247\n"
     ]
    }
   ],
   "source": [
    "# 引用元\n",
    "for citation in response.citations:\n",
    "    print(citation)"
   ]
  },
  {
   "cell_type": "markdown",
   "metadata": {},
   "source": [
    "# OpenAI API"
   ]
  },
  {
   "cell_type": "code",
   "execution_count": 19,
   "metadata": {},
   "outputs": [],
   "source": [
    "API_KEY = os.environ.get(\"OPENAI_API_KEY\")\n",
    "MODEL = \"gpt-4o-mini\"\n",
    "BASE_URL = \"https://api.openai.com/v1\"  # デフォルト値\n",
    "\n",
    "response = create_completion(API_KEY, BASE_URL, MODEL)"
   ]
  },
  {
   "cell_type": "code",
   "execution_count": 20,
   "metadata": {},
   "outputs": [
    {
     "name": "stdout",
     "output_type": "stream",
     "text": [
      "「コンピュータシステムの理論と実装」の第2版が出たとのことですね。第1版をまだ読んでいないのであれば、いくつか考慮すべき点があります。\n",
      "\n",
      "1. **内容の更新**: 第2版には、技術の進歩や新しい研究結果が反映されている可能性があります。特にコンピュータシステムやプログラミング技術は急速に進化しているため、最新の情報を得られることは大きな利点です。\n",
      "\n",
      "2. **読者のニーズ**: あなたが学びたい内容や目的に応じて、どちらの版が適しているかを考えてみてください。もし第2版が特定の新しいテーマや技術に焦点を当てている場合、それがあなたの学習に役立つかもしれません。\n",
      "\n",
      "3. **技術的な知識**: 第1版は基本的な理論や実装についての理解を深める助けになりますが、第2版はその知識をさらに進化させたり、現代の文脈での適用を示したりするかもしれません。もし基本をまずしっかり学びたいのであれば、第1版から始めるのも良いでしょう。\n",
      "\n",
      "4. **購入のタイミング**: 購入する前に、書店で第2版の目次や数ページを確認してみると、どのような内容が追加されているのか、あなたのニーズに合ったものかどうか判断しやすくなります。\n",
      "\n",
      "結論として、まずは第1版を読んでみてから、第2版を検討するのも一つの手ですが、技術が急速に進展している分野であるため、第2版を手に入れることも価値があります。どちらにせよ、深く理解することが大切ですので、自分に合った方法を選ばれることをお勧めします。\n"
     ]
    }
   ],
   "source": [
    "# 回答\n",
    "print(response.choices[0].message.content)"
   ]
  },
  {
   "cell_type": "code",
   "execution_count": 21,
   "metadata": {},
   "outputs": [
    {
     "ename": "AttributeError",
     "evalue": "'ChatCompletion' object has no attribute 'citations'",
     "output_type": "error",
     "traceback": [
      "\u001b[0;31m---------------------------------------------------------------------------\u001b[0m",
      "\u001b[0;31mAttributeError\u001b[0m                            Traceback (most recent call last)",
      "Cell \u001b[0;32mIn[21], line 2\u001b[0m\n\u001b[1;32m      1\u001b[0m \u001b[38;5;66;03m# 引用元\u001b[39;00m\n\u001b[0;32m----> 2\u001b[0m \u001b[38;5;28;01mfor\u001b[39;00m citation \u001b[38;5;129;01min\u001b[39;00m \u001b[43mresponse\u001b[49m\u001b[38;5;241;43m.\u001b[39;49m\u001b[43mcitations\u001b[49m:\n\u001b[1;32m      3\u001b[0m     \u001b[38;5;28mprint\u001b[39m(citation)\n",
      "File \u001b[0;32m~/works/langchain/pplx-trial/.venv/lib/python3.13/site-packages/pydantic/main.py:892\u001b[0m, in \u001b[0;36mBaseModel.__getattr__\u001b[0;34m(self, item)\u001b[0m\n\u001b[1;32m    889\u001b[0m     \u001b[38;5;28;01mreturn\u001b[39;00m \u001b[38;5;28msuper\u001b[39m()\u001b[38;5;241m.\u001b[39m\u001b[38;5;21m__getattribute__\u001b[39m(item)  \u001b[38;5;66;03m# Raises AttributeError if appropriate\u001b[39;00m\n\u001b[1;32m    890\u001b[0m \u001b[38;5;28;01melse\u001b[39;00m:\n\u001b[1;32m    891\u001b[0m     \u001b[38;5;66;03m# this is the current error\u001b[39;00m\n\u001b[0;32m--> 892\u001b[0m     \u001b[38;5;28;01mraise\u001b[39;00m \u001b[38;5;167;01mAttributeError\u001b[39;00m(\u001b[38;5;124mf\u001b[39m\u001b[38;5;124m'\u001b[39m\u001b[38;5;132;01m{\u001b[39;00m\u001b[38;5;28mtype\u001b[39m(\u001b[38;5;28mself\u001b[39m)\u001b[38;5;241m.\u001b[39m\u001b[38;5;18m__name__\u001b[39m\u001b[38;5;132;01m!r}\u001b[39;00m\u001b[38;5;124m object has no attribute \u001b[39m\u001b[38;5;132;01m{\u001b[39;00mitem\u001b[38;5;132;01m!r}\u001b[39;00m\u001b[38;5;124m'\u001b[39m)\n",
      "\u001b[0;31mAttributeError\u001b[0m: 'ChatCompletion' object has no attribute 'citations'"
     ]
    }
   ],
   "source": [
    "# 引用元\n",
    "for citation in response.citations:\n",
    "    print(citation)"
   ]
  }
 ],
 "metadata": {
  "kernelspec": {
   "display_name": ".venv",
   "language": "python",
   "name": "python3"
  },
  "language_info": {
   "codemirror_mode": {
    "name": "ipython",
    "version": 3
   },
   "file_extension": ".py",
   "mimetype": "text/x-python",
   "name": "python",
   "nbconvert_exporter": "python",
   "pygments_lexer": "ipython3",
   "version": "3.13.1"
  }
 },
 "nbformat": 4,
 "nbformat_minor": 2
}
