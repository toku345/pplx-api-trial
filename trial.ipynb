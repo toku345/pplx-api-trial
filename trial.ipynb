{
 "cells": [
  {
   "cell_type": "code",
   "execution_count": 12,
   "metadata": {},
   "outputs": [],
   "source": [
    "import os\n",
    "\n",
    "from openai import OpenAI, ChatCompletion"
   ]
  },
  {
   "cell_type": "code",
   "execution_count": 13,
   "metadata": {},
   "outputs": [],
   "source": [
    "def create_completion(api_key, base_url, model) -> ChatCompletion:\n",
    "    messages = [\n",
    "        {\n",
    "            \"role\": \"system\",\n",
    "            \"content\": (\n",
    "                \"You are an artificial intelligence assistant and you need to \"\n",
    "                \"engage in a helpful, detailed, polite conversation with a user.\"\n",
    "            ),\n",
    "        },\n",
    "        {\n",
    "            \"role\": \"user\",\n",
    "            \"content\": (\n",
    "                \"コンピュータシステムの理論と実装 第2版 が出たそうなのですが、そもそもまだ 第1版 を積んだまま読んでいません。第2版を買って読んだ方が良いでしょうか？\"\n",
    "            ),\n",
    "        },\n",
    "    ]\n",
    "\n",
    "    client = OpenAI(api_key=api_key, base_url=base_url)\n",
    "\n",
    "    response = client.chat.completions.create(\n",
    "        model=model,\n",
    "        messages=messages,\n",
    "    )\n",
    "\n",
    "    return response"
   ]
  },
  {
   "cell_type": "markdown",
   "metadata": {},
   "source": [
    "# Perplexity API"
   ]
  },
  {
   "cell_type": "code",
   "execution_count": 27,
   "metadata": {},
   "outputs": [],
   "source": [
    "API_KEY = os.environ.get(\"PPLX_API_KEY\")\n",
    "MODEL = \"llama-3.1-sonar-large-128k-online\"\n",
    "BASE_URL = \"https://api.perplexity.ai\"\n",
    "\n",
    "response = create_completion(API_KEY, BASE_URL, MODEL)\n"
   ]
  },
  {
   "cell_type": "code",
   "execution_count": 28,
   "metadata": {},
   "outputs": [
    {
     "name": "stdout",
     "output_type": "stream",
     "text": [
      "『コンピュータシステムの理論と実装』の第2版を購入するかどうかの判断には、以下の点を考慮することが賢明です。\n",
      "\n",
      "## 改訂点と新しい内容\n",
      "第2版では、以下のような改訂と追加が行われています：\n",
      "- 前半（ハードウェア編）と後半（ソフトウェア編）のコントラストが明確になりました[1][3][4].\n",
      "- 付録が補強され、多くのフィードバックを元に文章が全面的に書き換えられました[1].\n",
      "- 新しいトピック such as シェルやプロセスが実行されるまでの解説が章単位で追加され、ボリュームが増しています[5].\n",
      "\n",
      "## 読み方の推奨\n",
      "第1版をまだ読んでいない場合、第2版を購入するメリットは大きいです。第2版は、より明確な構成と追加の内容を含むため、理解を深めるのに役立ちます。特に、初版よりも詳細な解説と実践的なプロジェクトが含まれているため、学習効率が向上する可能性が高いでしょう[1][3][4].\n",
      "\n",
      "## 実践的な学習\n",
      "この本の最大の魅力は、各章に付随するプロジェクトの実装を通じて理解を深める体験学習です。第2版では、ウェブインターフェースのIDEが利用可能になり、プロジェクトの遂行がブラウザで完結するようになっているため、実験の敷居が下がっています[1].\n",
      "\n",
      "## 読み込みのアドバイス\n",
      "読み始める際には、特にハードウェア編が難しいと感じる場合、ソフトウェア編から始めることも推奨されています。実際に手を動かしながら読み込むことが重要で、半年くらいかけて実装しながら学ぶのが良いとされています[3].\n",
      "\n",
      "総じて、第2版には多くの改善と追加内容が含まれているため、第1版を読むのではなく、第2版を購入することをお勧めします。\n"
     ]
    }
   ],
   "source": [
    "# 回答\n",
    "print(response.choices[0].message.content)"
   ]
  },
  {
   "cell_type": "code",
   "execution_count": 29,
   "metadata": {},
   "outputs": [
    {
     "name": "stdout",
     "output_type": "stream",
     "text": [
      "[1]: https://dev.classmethod.jp/articles/nand2tetris-2nd-review/\n",
      "[2]: https://yutashx.hatenablog.com/entry/2024/03/22/225612\n",
      "[3]: https://blog.magnolia.tech/entry/2024/12/07/215236\n",
      "[4]: https://www.kinokuniya.co.jp/f/dsg-01-9784814400874\n",
      "[5]: https://www.lambdanote.com\n"
     ]
    }
   ],
   "source": [
    "# 引用元\n",
    "for i, citation in enumerate(response.citations):\n",
    "    print(f\"[{i+1}]: {citation}\")"
   ]
  },
  {
   "cell_type": "markdown",
   "metadata": {},
   "source": [
    "# OpenAI API"
   ]
  },
  {
   "cell_type": "code",
   "execution_count": 30,
   "metadata": {},
   "outputs": [],
   "source": [
    "API_KEY = os.environ.get(\"OPENAI_API_KEY\")\n",
    "MODEL = \"gpt-4o-mini\"\n",
    "BASE_URL = \"https://api.openai.com/v1\"  # デフォルト値\n",
    "\n",
    "response = create_completion(API_KEY, BASE_URL, MODEL)"
   ]
  },
  {
   "cell_type": "code",
   "execution_count": 31,
   "metadata": {},
   "outputs": [
    {
     "name": "stdout",
     "output_type": "stream",
     "text": [
      "「コンピュータシステムの理論と実装（第2版）」に興味を持たれているとのことですが、まず第1版がまだ読まれていないという状況ですね。\n",
      "\n",
      "第2版がリリースされたということは、いくつかの改訂や最新の情報、新たなトピックが追加されている可能性が高いです。以下の点を考慮して、どちらを読むべきか判断すると良いかもしれません。\n",
      "\n",
      "1. **内容の更新**: 第2版には、第1版からの改訂点や新しい研究成果が反映されている可能性があります。レビューや目次を確認してみて、どのような変更がなされているかを見てみると良いでしょう。\n",
      "\n",
      "2. **学習の目的**: あなたはこの本をどのような目的で読みたいと思っているのか考えてみてください。最新の情報を学びたいのであれば、第2版を読むのが良いでしょう。基礎をしっかりと学びたい場合は、第1版から始めることも選択肢です。\n",
      "\n",
      "3. **時間の余裕**: 第1版を先に読む時間がない場合は、第2版から読み始めても良いかもしれません。ただし、第1版の内容が重要な場合もあるため、その点を考慮してください。\n",
      "\n",
      "4. **サンプルやレビュー**: 可能であれば、両方の版のサンプルやレビューを見て、どちらに魅力を感じるかを比較するのも良いでしょう。\n",
      "\n",
      "もし時間的に余裕があるのであれば、まず第1版を読んで基礎を固めつつ、第2版に進むというのも一つの方法です。しかし、第2版だけを読むことにしても、最新の情報を得られるメリットがあります。\n",
      "\n",
      "最終的にはあなたの学習スタイルや目的に応じて選択するのが良いでしょう。何かさらに具体的な質問やご相談があれば、お知らせください。\n"
     ]
    }
   ],
   "source": [
    "# 回答\n",
    "print(response.choices[0].message.content)"
   ]
  },
  {
   "cell_type": "code",
   "execution_count": 32,
   "metadata": {},
   "outputs": [
    {
     "ename": "AttributeError",
     "evalue": "'ChatCompletion' object has no attribute 'citations'",
     "output_type": "error",
     "traceback": [
      "\u001b[0;31m---------------------------------------------------------------------------\u001b[0m",
      "\u001b[0;31mAttributeError\u001b[0m                            Traceback (most recent call last)",
      "Cell \u001b[0;32mIn[32], line 2\u001b[0m\n\u001b[1;32m      1\u001b[0m \u001b[38;5;66;03m# 引用元\u001b[39;00m\n\u001b[0;32m----> 2\u001b[0m \u001b[38;5;28;01mfor\u001b[39;00m citation \u001b[38;5;129;01min\u001b[39;00m \u001b[43mresponse\u001b[49m\u001b[38;5;241;43m.\u001b[39;49m\u001b[43mcitations\u001b[49m:\n\u001b[1;32m      3\u001b[0m     \u001b[38;5;28mprint\u001b[39m(citation)\n",
      "File \u001b[0;32m~/works/langchain/pplx-trial/.venv/lib/python3.13/site-packages/pydantic/main.py:892\u001b[0m, in \u001b[0;36mBaseModel.__getattr__\u001b[0;34m(self, item)\u001b[0m\n\u001b[1;32m    889\u001b[0m     \u001b[38;5;28;01mreturn\u001b[39;00m \u001b[38;5;28msuper\u001b[39m()\u001b[38;5;241m.\u001b[39m\u001b[38;5;21m__getattribute__\u001b[39m(item)  \u001b[38;5;66;03m# Raises AttributeError if appropriate\u001b[39;00m\n\u001b[1;32m    890\u001b[0m \u001b[38;5;28;01melse\u001b[39;00m:\n\u001b[1;32m    891\u001b[0m     \u001b[38;5;66;03m# this is the current error\u001b[39;00m\n\u001b[0;32m--> 892\u001b[0m     \u001b[38;5;28;01mraise\u001b[39;00m \u001b[38;5;167;01mAttributeError\u001b[39;00m(\u001b[38;5;124mf\u001b[39m\u001b[38;5;124m'\u001b[39m\u001b[38;5;132;01m{\u001b[39;00m\u001b[38;5;28mtype\u001b[39m(\u001b[38;5;28mself\u001b[39m)\u001b[38;5;241m.\u001b[39m\u001b[38;5;18m__name__\u001b[39m\u001b[38;5;132;01m!r}\u001b[39;00m\u001b[38;5;124m object has no attribute \u001b[39m\u001b[38;5;132;01m{\u001b[39;00mitem\u001b[38;5;132;01m!r}\u001b[39;00m\u001b[38;5;124m'\u001b[39m)\n",
      "\u001b[0;31mAttributeError\u001b[0m: 'ChatCompletion' object has no attribute 'citations'"
     ]
    }
   ],
   "source": [
    "# 引用元\n",
    "for citation in response.citations:\n",
    "    print(citation)"
   ]
  }
 ],
 "metadata": {
  "kernelspec": {
   "display_name": ".venv",
   "language": "python",
   "name": "python3"
  },
  "language_info": {
   "codemirror_mode": {
    "name": "ipython",
    "version": 3
   },
   "file_extension": ".py",
   "mimetype": "text/x-python",
   "name": "python",
   "nbconvert_exporter": "python",
   "pygments_lexer": "ipython3",
   "version": "3.13.1"
  }
 },
 "nbformat": 4,
 "nbformat_minor": 2
}
