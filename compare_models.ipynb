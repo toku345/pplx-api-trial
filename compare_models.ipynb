{
 "cells": [
  {
   "cell_type": "code",
   "execution_count": 1,
   "metadata": {},
   "outputs": [],
   "source": [
    "import os\n",
    "\n",
    "from openai import OpenAI, ChatCompletion"
   ]
  },
  {
   "cell_type": "code",
   "execution_count": 2,
   "metadata": {},
   "outputs": [],
   "source": [
    "def create_completion(api_key, base_url, model) -> ChatCompletion:\n",
    "    messages = [\n",
    "        {\n",
    "            \"role\": \"system\",\n",
    "            \"content\": (\n",
    "                \"You are an artificial intelligence assistant and you need to \"\n",
    "                \"engage in a helpful, detailed, polite conversation with a user.\"\n",
    "            ),\n",
    "        },\n",
    "        {\n",
    "            \"role\": \"user\",\n",
    "            \"content\": (\n",
    "                \"コンピュータシステムの理論と実装 第2版 が出たそうなのですが、そもそもまだ 第1版 を積んだまま読んでいません。第2版を買って読んだ方が良いでしょうか？\"\n",
    "            ),\n",
    "        },\n",
    "    ]\n",
    "\n",
    "    client = OpenAI(api_key=api_key, base_url=base_url)\n",
    "\n",
    "    response = client.chat.completions.create(\n",
    "        model=model,\n",
    "        messages=messages,\n",
    "    )\n",
    "\n",
    "    return response"
   ]
  },
  {
   "cell_type": "markdown",
   "metadata": {},
   "source": [
    "# Perplexity API"
   ]
  },
  {
   "cell_type": "code",
   "execution_count": 3,
   "metadata": {},
   "outputs": [],
   "source": [
    "API_KEY = os.environ.get(\"PPLX_API_KEY\")\n",
    "MODEL = \"llama-3.1-sonar-huge-128k-online\"\n",
    "BASE_URL = \"https://api.perplexity.ai\"\n",
    "\n",
    "response = create_completion(API_KEY, BASE_URL, MODEL)\n"
   ]
  },
  {
   "cell_type": "code",
   "execution_count": 4,
   "metadata": {},
   "outputs": [
    {
     "name": "stdout",
     "output_type": "stream",
     "text": [
      "**第2版を買って読むべきか？**\n",
      "\n",
      "『コンピュータシステムの理論と実装』の第2版が2024年12月に出版されました。第1版をまだ読んでいない場合、第2版を購入して読むことをお勧めします。以下の理由があります：\n",
      "\n",
      "1. **改訂内容**：第2版では、初版の内容が全面的に書き換えられ、付録も補強されています。特に、シェルやプロセスの実行に関する解説が追加されています[1][5]。\n",
      "\n",
      "2. **最新の情報**：第2版は最新の情報を反映しており、より体系的かつ詳細な内容が含まれています。例えば、仮想マシンの解説が強化されています[3]。\n",
      "\n",
      "3. **学習の効率**：第2版は、前半のハードウェア編と後半のソフトウェア編のコントラストが明確になり、各章のプロジェクトを通じて理解を深める体験学習が可能です[1][4]。\n",
      "\n",
      "4. **実践的学習**：第2版では、各章に付随するプロジェクトの実装を通して理解を深めることができます。ウェブインターフェースのIDEが存在し、プロジェクトの遂行に必要な操作がブラウザで完結するようになっています[1]。\n",
      "\n",
      "5. **長期的な価値**：第2版は、コンピュータサイエンスの基礎を学ぶための最善の方法を提供しており、長期的な価値があります[3][4]。\n",
      "\n",
      "したがって、第1版をまだ読んでいない場合、第2版を購入して読むことをお勧めします。\n"
     ]
    }
   ],
   "source": [
    "# 回答\n",
    "print(response.choices[0].message.content)"
   ]
  },
  {
   "cell_type": "code",
   "execution_count": 5,
   "metadata": {},
   "outputs": [
    {
     "name": "stdout",
     "output_type": "stream",
     "text": [
      "[1]: https://dev.classmethod.jp/articles/nand2tetris-2nd-review/\n",
      "[2]: https://yutashx.hatenablog.com/entry/2024/03/22/225612\n",
      "[3]: https://blog.magnolia.tech/entry/2024/12/07/215236\n",
      "[4]: https://www.kinokuniya.co.jp/f/dsg-01-9784814400874\n",
      "[5]: https://www.lambdanote.com\n"
     ]
    }
   ],
   "source": [
    "# 引用元\n",
    "for i, citation in enumerate(response.citations):\n",
    "    print(f\"[{i+1}]: {citation}\")"
   ]
  },
  {
   "cell_type": "markdown",
   "metadata": {},
   "source": [
    "# OpenAI API"
   ]
  },
  {
   "cell_type": "code",
   "execution_count": 6,
   "metadata": {},
   "outputs": [],
   "source": [
    "API_KEY = os.environ.get(\"OPENAI_API_KEY\")\n",
    "MODEL = \"gpt-4o\"\n",
    "BASE_URL = \"https://api.openai.com/v1\"  # デフォルト値\n",
    "\n",
    "response = create_completion(API_KEY, BASE_URL, MODEL)"
   ]
  },
  {
   "cell_type": "code",
   "execution_count": 7,
   "metadata": {},
   "outputs": [
    {
     "name": "stdout",
     "output_type": "stream",
     "text": [
      "もし「コンピュータシステムの理論と実装」の第1版をまだ読んでいないのであれば、第2版を購入して読んでも良いかもしれません。第2版には通常、新しい情報やトピックのアップデート、改善された説明、または訂正が含まれています。したがって、最新の情報を得るためには第2版を選ぶのが良い選択です。\n",
      "\n",
      "とはいえ、もし第1版を既に手に入れているのであれば、まず第1版を読み始めて、自分の興味や理解の状況に応じて第2版を買うかどうか決めても良いでしょう。本の内容が自分にとって非常に興味深いものであると感じた場合、第1版を読み終えた後に、新しい内容や改訂された情報を確認するために第2版を購入するのも良いアイデアです。\n",
      "\n",
      "具体的な改訂点や第2版で追加された主なトピックについての情報を確認できると、どちらを読むかの判断材料になるかもしれません。出版元のサイトやレビューなどで、第2版の特徴を調べてみると良いでしょう。\n"
     ]
    }
   ],
   "source": [
    "# 回答\n",
    "print(response.choices[0].message.content)"
   ]
  },
  {
   "cell_type": "code",
   "execution_count": 8,
   "metadata": {},
   "outputs": [
    {
     "ename": "AttributeError",
     "evalue": "'ChatCompletion' object has no attribute 'citations'",
     "output_type": "error",
     "traceback": [
      "\u001b[0;31m---------------------------------------------------------------------------\u001b[0m",
      "\u001b[0;31mAttributeError\u001b[0m                            Traceback (most recent call last)",
      "Cell \u001b[0;32mIn[8], line 2\u001b[0m\n\u001b[1;32m      1\u001b[0m \u001b[38;5;66;03m# 引用元\u001b[39;00m\n\u001b[0;32m----> 2\u001b[0m \u001b[38;5;28;01mfor\u001b[39;00m citation \u001b[38;5;129;01min\u001b[39;00m \u001b[43mresponse\u001b[49m\u001b[38;5;241;43m.\u001b[39;49m\u001b[43mcitations\u001b[49m:\n\u001b[1;32m      3\u001b[0m     \u001b[38;5;28mprint\u001b[39m(citation)\n",
      "File \u001b[0;32m~/works/langchain/pplx-trial/.venv/lib/python3.13/site-packages/pydantic/main.py:892\u001b[0m, in \u001b[0;36mBaseModel.__getattr__\u001b[0;34m(self, item)\u001b[0m\n\u001b[1;32m    889\u001b[0m     \u001b[38;5;28;01mreturn\u001b[39;00m \u001b[38;5;28msuper\u001b[39m()\u001b[38;5;241m.\u001b[39m\u001b[38;5;21m__getattribute__\u001b[39m(item)  \u001b[38;5;66;03m# Raises AttributeError if appropriate\u001b[39;00m\n\u001b[1;32m    890\u001b[0m \u001b[38;5;28;01melse\u001b[39;00m:\n\u001b[1;32m    891\u001b[0m     \u001b[38;5;66;03m# this is the current error\u001b[39;00m\n\u001b[0;32m--> 892\u001b[0m     \u001b[38;5;28;01mraise\u001b[39;00m \u001b[38;5;167;01mAttributeError\u001b[39;00m(\u001b[38;5;124mf\u001b[39m\u001b[38;5;124m'\u001b[39m\u001b[38;5;132;01m{\u001b[39;00m\u001b[38;5;28mtype\u001b[39m(\u001b[38;5;28mself\u001b[39m)\u001b[38;5;241m.\u001b[39m\u001b[38;5;18m__name__\u001b[39m\u001b[38;5;132;01m!r}\u001b[39;00m\u001b[38;5;124m object has no attribute \u001b[39m\u001b[38;5;132;01m{\u001b[39;00mitem\u001b[38;5;132;01m!r}\u001b[39;00m\u001b[38;5;124m'\u001b[39m)\n",
      "\u001b[0;31mAttributeError\u001b[0m: 'ChatCompletion' object has no attribute 'citations'"
     ]
    }
   ],
   "source": [
    "# 引用元\n",
    "for citation in response.citations:\n",
    "    print(citation)"
   ]
  }
 ],
 "metadata": {
  "kernelspec": {
   "display_name": ".venv",
   "language": "python",
   "name": "python3"
  },
  "language_info": {
   "codemirror_mode": {
    "name": "ipython",
    "version": 3
   },
   "file_extension": ".py",
   "mimetype": "text/x-python",
   "name": "python",
   "nbconvert_exporter": "python",
   "pygments_lexer": "ipython3",
   "version": "3.13.1"
  }
 },
 "nbformat": 4,
 "nbformat_minor": 2
}
